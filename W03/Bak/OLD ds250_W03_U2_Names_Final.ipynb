{
  "cells": [
    {
      "cell_type": "raw",
      "id": "e675445c",
      "metadata": {},
      "source": [
        "---\n",
        "title: \"Client Report - W02 Project 1: What's in a name?\"\n",
        "subtitle: \"Course DS 250\"\n",
        "author: \"Scott LeFoll\"\n",
        "format:\n",
        "  html:\n",
        "    self-contained: true\n",
        "    page-layout: full\n",
        "    title-block-banner: true\n",
        "    toc: true\n",
        "    toc-depth: 3\n",
        "    toc-location: body\n",
        "    number-sections: false\n",
        "    html-math-method: katex\n",
        "    code-fold: true\n",
        "    code-summary: \"Show the code\"\n",
        "    code-overflow: wrap\n",
        "    code-copy: hover\n",
        "    code-tools:\n",
        "        source: false\n",
        "        toggle: true\n",
        "        caption: See code\n",
        "    \n",
        "---"
      ]
    },
    {
      "cell_type": "code",
      "execution_count": null,
      "id": "libraries",
      "metadata": {},
      "outputs": [],
      "source": [
        "#| label: libraries\n",
        "#| include: false\n",
        "import pandas as pd\n",
        "import altair as alt\n",
        "import numpy as np\n",
        "import pandasql as psql\n",
        "import matplotlib.pyplot as plt\n",
        "\n",
        "from pandasql import sqldf\n",
        "from sklearn import datasets\n",
        "from IPython.display import Markdown\n",
        "from IPython.display import display\n",
        "from tabulate import tabulate\n",
        "from altair import Chart, X, Y, Axis, SortField"
      ]
    },
    {
      "cell_type": "markdown",
      "id": "479e1d48",
      "metadata": {},
      "source": [
        "## Elevator pitch\n",
        "\n",
        "You can tell a lot from a civilization from it's language, and one of the most \n",
        "important aspects of language is the words that are used to represent people. A \n",
        "name is the essence of a thing, and the trends in child names over the last \n",
        "century tell a story about the evolutin of our culture. What were the most \n",
        "common names during the Great Depression? What about in the Civil Rights era? \n",
        "In this project I will show visualizations that compare the relative prominence \n",
        "of names over time, and I will also show how the popularity of names has \n",
        "changed over time.\n"
      ]
    },
    {
      "cell_type": "code",
      "execution_count": null,
      "id": "project-data",
      "metadata": {},
      "outputs": [],
      "source": [
        "#| label: project data\n",
        "#| code-summary: Read and format project data\n",
        "# Include and execute your code here\n",
        "#read in url to df\n",
        "url = 'https://github.com/byuidatascience/data4names/raw/master/data-raw/names_year/names_year.csv'\n",
        "dat = pd.read_csv(url)\n",
        "\n",
        "\n",
        "# %%\n",
        "dat.head(-5)"
      ]
    },
    {
      "cell_type": "markdown",
      "id": "fa29a3a9",
      "metadata": {},
      "source": [
        "## GRAND QUESTION 1\n",
        "\n",
        "How does your name at your birth year compare to its use historically?\n"
      ]
    },
    {
      "cell_type": "code",
      "execution_count": null,
      "id": "TABLE1A",
      "metadata": {},
      "outputs": [],
      "source": [
        "#| label: TABLE1A\n",
        "#| code-summary: Read and format data\n",
        "# Include and execute your code here\\\n",
        "\n",
        "mydat = dat.query('name == \"Scott\" & year == 1964')\n",
        "mydat\n",
        "mydat = dat.head(100)\\\n",
        "    .sum()\\\n",
        "    .reset_index()\\\n",
        "    .tail(120)\n",
        "display(mydat)"
      ]
    },
    {
      "cell_type": "code",
      "execution_count": null,
      "id": "CHART1A",
      "metadata": {},
      "outputs": [],
      "source": [
        "#| label: CHART1A\n",
        "#| code-summary: Read and format data\n",
        "# Include and execute your code here\n",
        "\n",
        "# compute the total number of occurrences for 'Scott' in 1964 across all states\n",
        "\n",
        "alt.Chart(mydat)\\\n",
        "    .encode(x=\"name\", y=\"0\")\\\n",
        "    .mark_bar(width = 50)\\\n",
        "    .properties(\n",
        "        width=800,\n",
        "        height=300\n",
        "\n",
        "    )\n"
      ]
    },
    {
      "cell_type": "code",
      "execution_count": null,
      "id": "TABLE2A",
      "metadata": {},
      "outputs": [],
      "source": [
        "#| label: TABLE2A\n",
        "#| code-summary: Read and format data\n",
        "# Include and execute your code here\n",
        "\n",
        "# Display the total number of occurrences for 'Scott' in 1964 for each state, plus total\n",
        "\n",
        "q = \"SELECT * FROM dat WHERE NAME = 'Scott' AND year = 1964\"\n",
        "\n",
        "dat_1964 = sqldf(q, globals())\n",
        "# dat1964 = dat1964.transpose()\n",
        "# dat1964\n",
        "\n",
        "mydat = dat_1964.head(60)\\\n",
        "    .reset_index()\\\n",
        "    .tail(51)\n",
        "display(mydat)"
      ]
    },
    {
      "cell_type": "code",
      "execution_count": null,
      "id": "CHART2A",
      "metadata": {},
      "outputs": [],
      "source": [
        "#| label: CHART2A\n",
        "#| code-summary: Read and format data\n",
        "# Include and execute your code here\n",
        "\n",
        "# Display the total number of occurrences for 'Scott' in 1964 for each state, plus total\n",
        "alt.Chart(dat_1964)\\\n",
        "    .encode(x=\"row\", y=\"column\")\\\n",
        "    .mark_bar(width = 50)\\\n",
        "    .properties(\n",
        "        width=800,\n",
        "        height=300\n",
        "\n",
        "    )\n"
      ]
    },
    {
      "cell_type": "code",
      "execution_count": null,
      "id": "TABLE3A",
      "metadata": {},
      "outputs": [],
      "source": [
        "#| label: TABLE3A\n",
        "#| code-summary: Read and format data\n",
        "# Include and execute your code here\n",
        "\n",
        "# compute the min state for occurences of 'Scott' in 1964\n",
        "\n",
        "q = \"SELECT * FROM dat WHERE NAME = 'Scott' AND year = 1964\"\n",
        "dat3 = sqldf(q, globals())\n",
        "dat3.drop([\"year\", \"Total\"], axis = 1, inplace = True)\n",
        "dat4\n",
        "minvalue_series = dat3.min(axis = 1)\n",
        "minvalue_series"
      ]
    },
    {
      "cell_type": "code",
      "execution_count": null,
      "id": "CHART3A",
      "metadata": {},
      "outputs": [],
      "source": [
        "#| label: CHART3A\n",
        "#| code-summary: Read and format data\n",
        "# Include and execute your code here\n",
        "\n",
        "# compute the min state for occurences of 'Scott' in 1964\n",
        "\n",
        "\n",
        "alt.Chart(dat3)\\\n",
        "    .encode(x=\"name\", y=\"AK\")\\\n",
        "    .mark_bar(width = 50)\\\n",
        "    .properties(\n",
        "        width=800,\n",
        "        height=300\n",
        "\n",
        "    )"
      ]
    },
    {
      "cell_type": "code",
      "execution_count": null,
      "id": "TABLE4A",
      "metadata": {},
      "outputs": [],
      "source": [
        "#| label: TABLE4A\n",
        "#| code-summary: Read and format data\n",
        "# Include and execute your code here\n",
        "\n",
        "# compute the max state for occurences of 'Scott' in 1964\n",
        "q = \"SELECT * FROM dat WHERE NAME = 'Scott' AND year = 1964\"\n",
        "dat3 = sqldf(q, globals())\n",
        "dat3.drop([\"year\", \"Total\"], axis = 1, inplace = True)\n",
        "dat3\n",
        "maxvalue_series = dat3.max(axis = 1)\n",
        "maxvalue_series"
      ]
    },
    {
      "cell_type": "code",
      "execution_count": null,
      "id": "CHART4A",
      "metadata": {},
      "outputs": [],
      "source": [
        "#| label: CHART4A\n",
        "#| code-summary: Read and format data\n",
        "# Include and execute your code here\n",
        "\n",
        "# compute the max state for occurences of 'Scott' in 1964\n",
        "alt.Chart(dat3)\\\n",
        "    .encode(x=\"name\", y=\"CA\")\\\n",
        "    .mark_bar(width = 50)\\\n",
        "    .properties(\n",
        "        width=800,\n",
        "        height=300\n",
        "\n",
        "    )"
      ]
    },
    {
      "cell_type": "code",
      "execution_count": null,
      "id": "TABLE1B",
      "metadata": {},
      "outputs": [],
      "source": [
        "#| label: TABLE1B\n",
        "#| code-summary: Read and format data\n",
        "# Include and execute your code here\n",
        "\n",
        "# # compute the total number of occurrences for 'Scott' for all years across all states\n",
        "q = \"SELECT name, year, SUM(total) as sum_total FROM dat WHERE NAME = 'Scott'\"\n",
        "dat3 = sqldf(q, globals())\n",
        " \n",
        "dat_all_years_total = dat3.groupby('name').sum() \n",
        "dat_all_years_total\n",
        "\n",
        "mydat = dat_all_years_total.head(1000)\\\n",
        "    .sum()\\\n",
        "    .reset_index()\\\n",
        "    .tail(51)\n",
        "display(mydat)"
      ]
    },
    {
      "cell_type": "code",
      "execution_count": null,
      "id": "CHART1B",
      "metadata": {},
      "outputs": [],
      "source": [
        "#| label: CHART1B\n",
        "#| code-summary: Read and format data\n",
        "# Include and execute your code here\n",
        "\n",
        "# # compute the total number of occurrences for 'Scott' for all years across all states\n",
        "alt.Chart(dat_1964)\\\n",
        "    .encode(x=\"name\", y=\"year\")\\\n",
        "    .mark_bar(width = 50)\\\n",
        "    .properties(\n",
        "        width=800,\n",
        "        height=300\n",
        "\n",
        "    )\n"
      ]
    },
    {
      "cell_type": "code",
      "execution_count": null,
      "id": "TABLE2B",
      "metadata": {},
      "outputs": [],
      "source": [
        "#| label: TABLE2B\n",
        "#| code-summary: Read and format data\n",
        "# Include and execute your code here\n",
        "\n",
        "# All occurrences of 'Scott' for all years (1906 - 2015) by state, Plus total\n",
        "# q = \"\"\"SELECT SUM(AK) as ak, SUM(AL) as al, SUM(AR) as ar, SUM(AZ) as az, SUM(CA) as ca, SUM(CO) as co, SUM(CT) as ct, SUM(DC) as dc, SUM(DE) as de, SUM(FL) as fl, SUM(GA) as ga, SUM(HI), SUM(IA), SUM(ID), SUM(IL), SUM('IN'), SUM(KS), SUM(KY), SUM(LA), SUM(MA), SUM(MD), SUM(ME), SUM(MI), SUM(MN), SUM(MO), SUM(MS), SUM(MT), SUM(NC), SUM(ND), SUM(NE), SUM(NH), SUM(NJ), SUM(NM), SUM(NV), SUM(NY), SUM(OH), SUM(OK), SUM('OR'), SUM(PA), SUM(RI), SUM(SC), SUM(SD), SUM(TN), SUM(TX), SUM(UT), SUM(VA), SUM(VT), SUM(WA), SUM(WI), SUM(WV), SUM(WY) FROM dat WHERE NAME = 'Scott'\"\"\"\n",
        "\n",
        "q = \"SELECT * FROM dat WHERE NAME = 'Scott'\"\n",
        "dat3 = sqldf(q, globals())\n",
        " \n",
        "dat_all_years_total = dat3.groupby('name').sum().reset_index()\n",
        "\n",
        "# dat3\n",
        "dat_all_years_total\n",
        "\n",
        "mydat = dat_all_years_total.head(1000)\\\n",
        "    .sum()\\\n",
        "    .reset_index()\\\n",
        "    .tail(51)\n",
        "display(mydat)\n"
      ]
    },
    {
      "cell_type": "markdown",
      "id": "f5b8c67f",
      "metadata": {},
      "source": [
        "```\n",
        "\n",
        "\n",
        "```"
      ]
    },
    {
      "cell_type": "code",
      "execution_count": null,
      "id": "CHART2B",
      "metadata": {},
      "outputs": [],
      "source": [
        "#| label: CHART2B\n",
        "#| code-summary: Read and format data\n",
        "# Include and execute your code here\n",
        "\n",
        "# Display the total number of occurrences for 'Scott' for all years for each state, plus total\n",
        "\n",
        "alt.Chart(mydat)\\\n",
        "    .encode(x=\"name\", y=\"sum()\")\\\n",
        "    .mark_bar(width = 50)\\\n",
        "    .properties(\n",
        "        width=800,\n",
        "        height=300\n",
        "\n",
        "    )\n"
      ]
    },
    {
      "cell_type": "code",
      "execution_count": null,
      "id": "TABLE3B",
      "metadata": {},
      "outputs": [],
      "source": [
        "#| label: TABLE3B\n",
        "#| code-summary: Read and format data\n",
        "# Include and execute your code here\n",
        "\n",
        "# compute the min value per state for occurences of 'Scott'\n",
        "\n",
        "q = \"SELECT * FROM dat WHERE NAME = 'Scott'\n",
        "dat3 = sqldf(q, globals())\n",
        "dat3.drop([\"year\", \"Total\"], axis = 1, inplace = True)\n",
        "dat4\n",
        "minvalue_series = dat3.min(axis = 1)\n",
        "minvalue_series"
      ]
    },
    {
      "cell_type": "code",
      "execution_count": null,
      "id": "CHART3B",
      "metadata": {},
      "outputs": [],
      "source": [
        "#| label: CHART3B\n",
        "#| code-summary: Read and format data\n",
        "# Include and execute your code here\n",
        "\n",
        "# compute the min value per state for occurences of 'Scott'\n",
        "\n",
        "\n",
        "alt.Chart(dat3)\\\n",
        "    .encode(x=\"name\", y=\"AK\")\\\n",
        "    .mark_bar(width = 50)\\\n",
        "    .properties(\n",
        "        width=800,\n",
        "        height=300\n",
        "\n",
        "    )"
      ]
    },
    {
      "cell_type": "code",
      "execution_count": null,
      "id": "TABLE4B",
      "metadata": {},
      "outputs": [],
      "source": [
        "#| label: TABLE4B\n",
        "#| code-summary: Read and format data\n",
        "# Include and execute your code here\n",
        "\n",
        "# compute the max value in each state for occurences of 'Scott'\n",
        "q = \"SELECT * FROM dat WHERE NAME = 'Scott'\"\n",
        "dat3 = sqldf(q, globals())\n",
        "dat3.drop([\"year\", \"Total\"], axis = 1, inplace = True)\n",
        "dat3\n",
        "maxvalue_series = dat3.max(axis = 1)\n",
        "maxvalue_series"
      ]
    },
    {
      "cell_type": "code",
      "execution_count": null,
      "id": "CHART4B",
      "metadata": {},
      "outputs": [],
      "source": [
        "#| label: CHART4B\n",
        "#| code-summary: Read and format data\n",
        "# Include and execute your code here\n",
        "\n",
        "# compute the max value in each state for occurences of 'Scott'\n",
        "alt.Chart(dat3)\\\n",
        "    .encode(x=\"name\", y=\"CA\")\\\n",
        "    .mark_bar(width = 50)\\\n",
        "    .properties(\n",
        "        width=800,\n",
        "        height=300\n",
        "\n",
        "    )"
      ]
    },
    {
      "cell_type": "markdown",
      "id": "02dd9f62",
      "metadata": {},
      "source": [
        "_include figures in chunks and discuss your findings in the figure._\n"
      ]
    },
    {
      "cell_type": "code",
      "execution_count": null,
      "id": "TABLE5B",
      "metadata": {},
      "outputs": [],
      "source": [
        "#| label: TABLE5B\n",
        "#| code-summary: Read and format data\n",
        "# Include and execute your code here\n",
        "\n",
        "#compute the average annual occurrence of 'Scott' across all states for all years in data set\n",
        "# q = \"SELECT ROUND(ROUND(SUM(TOTAL))/COUNT(DISTINCT year)) as avg_total FROM dat WHERE NAME = 'Scott' \"\n",
        "q = \"\"\"SELECT ROUND(AVG(AK)) as ak, ROUND(AVG(AL)) as al, ROUND(AVG(AR)) as ar, ROUND(AVG(AZ)) as az, ROUND(AVG(CA)) as ca, ROUND(AVG(CO)) as co, ROUND(AVG(CT)) as ct, ROUND(AVG(DC)) as dc, ROUND(AVG(DE)) as de, ROUND(AVG(FL)) as fl, ROUND(AVG(GA)) as ga, ROUND(AVG(HI)), ROUND(AVG(IA)), ROUND(AVG(ID)), ROUND(AVG(IL)), ROUND(AVG('IN')), ROUND(AVG(KS)), ROUND(AVG(KY)), ROUND(AVG(LA)), ROUND(AVG(MA)), ROUND(AVG(MD)), ROUND(AVG(ME)), ROUND(AVG(MI)), ROUND(AVG(MN)), ROUND(AVG(MO)), ROUND(AVG(MS)), ROUND(AVG(MT)), ROUND(AVG(NC)), ROUND(AVG(ND)), ROUND(AVG(NE)), ROUND(AVG(NH)), ROUND(AVG(NJ)), ROUND(AVG(NM)), ROUND(AVG(NV)), ROUND(AVG(NY)), ROUND(AVG(OH)), ROUND(AVG(OK)), ROUND(AVG('OR')), ROUND(AVG(PA)), ROUND(AVG(RI)), ROUND(AVG(SC)), ROUND(AVG(SD)), ROUND(AVG(TN)), ROUND(AVG(TX)), ROUND(AVG(UT)), ROUND(AVG(VA)), ROUND(AVG(VT)), ROUND(AVG(WA)), ROUND(AVG(WI)), ROUND(AVG(WV)), ROUND(AVG(WY)) FROM dat WHERE NAME = 'Scott'\"\"\"\n",
        "\n",
        "dat2 = sqldf(q, globals())\n",
        "dat2\n",
        "\n",
        "# #what is group by and agg\n",
        "# dat_total = dat.groupby('name').agg(n = ('Total', 'sum')).reset_index()\n",
        "# print(dat_total\n",
        "#     .query('n in [@dat_total.n.max(), @dat_total.n.min()]')\n",
        "#     .to_markdown(index = False, floatfmt=\".0f\"))\n"
      ]
    },
    {
      "cell_type": "code",
      "execution_count": null,
      "id": "CHART5B",
      "metadata": {},
      "outputs": [],
      "source": [
        "#| label: CHART5B\n",
        "#| code-summary: Read and format data\n",
        "# Include and e\n",
        "# xecute your code here\n",
        "\n",
        "#show the average annual occurrence of 'Scott' across all states for all years in data set\n",
        "\n",
        "\n",
        "# #what is group by and agg\n",
        "# dat_total = dat.groupby('name').agg(n = ('Total', 'sum')).reset_index()\n",
        "# print(dat_total\n",
        "#     .query('n in [@dat_total.n.max(), @dat_total.n.min()]')\n",
        "#     .to_markdown(index = False, floatfmt=\".0f\"))\n"
      ]
    },
    {
      "cell_type": "markdown",
      "id": "eb5b5d29",
      "metadata": {},
      "source": [
        "## GRAND QUESTION 2\n",
        "\n",
        "If you talked to someone named Brittany on the phone, what is your guess of \n",
        "his or her age? What ages would you not guess?\n",
        "\n",
        "\n",
        "_type your results and analysis here_\n"
      ]
    },
    {
      "cell_type": "code",
      "execution_count": null,
      "id": "GQ2",
      "metadata": {},
      "outputs": [],
      "source": [
        "#| label: GQ2\n",
        "#| code-summary: Read and format data\n",
        "# Include and execute your code here\n",
        "\n",
        "# q = \"SELECT ROUND(ROUND(SUM(TOTAL))/COUNT(DISTINCT year)) as avg_total FROM dat WHERE NAME = 'Brittany' \"\n",
        "q = \"SELECT year, name, total FROM dat WHERE name = 'Brittany'\"\n",
        "sqldf(q, globals())\n",
        "\n",
        "# Born 1985 - 1994\n",
        "\n",
        "# alt.Chart(dat4.head(200))\\\n",
        "#     .encode(x = \"name\", y = avg_total)\n",
        "#     .mark_bar()"
      ]
    },
    {
      "cell_type": "markdown",
      "id": "bb3b290e",
      "metadata": {},
      "source": [
        "_include figures in chunks and discuss your findings in the figure._\n"
      ]
    },
    {
      "cell_type": "code",
      "execution_count": null,
      "id": "GQ2-chart",
      "metadata": {},
      "outputs": [],
      "source": [
        "#| label: GQ2 chart\n",
        "#| code-summary: plot example\n",
        "#| fig-cap: My useless chart\n",
        "#| fig-align: center\n",
        "# Include and execute your code here\n",
        "alt.Chart(dat.head(200))\\\n",
        "    .encode(x = \"name\", y = \"AK\")\\\n",
        "    .mark_bar()"
      ]
    },
    {
      "cell_type": "code",
      "execution_count": null,
      "id": "GQ2-table",
      "metadata": {},
      "outputs": [],
      "source": [
        "#| label: GQ2 table\n",
        "#| code-summary: table example\n",
        "#| tbl-cap: Not much of a table\n",
        "#| tbl-cap-location: top\n",
        "# Include and execute your code here\n",
        "\n",
        "# mydat = dat.head(1000)\\\n",
        "#     .groupby('year')\\\n",
        "#     .sum()\\\n",
        "#     .reset_index()\\\n",
        "#     .tail(10)\\\n",
        "#     .filter([\"year\", \"AK\",\"AR\"])\n",
        "\n",
        "# display(mydat)"
      ]
    },
    {
      "cell_type": "markdown",
      "id": "a990691c",
      "metadata": {},
      "source": [
        "## GRAND QUESTION 3\n",
        "\n",
        "Mary, Martha, Peter, and Paul are all Christian names. From 1920 - 2000, \n",
        "compare the name usage of each of the four names. What trends do you notice?\n",
        "\n",
        "\n",
        "_type your results and analysis here_\n"
      ]
    },
    {
      "cell_type": "code",
      "execution_count": null,
      "id": "GQ3",
      "metadata": {},
      "outputs": [],
      "source": [
        "#| label: GQ3\n",
        "#| code-summary: Read and format data\n",
        "# Include and execute your code here\n",
        "\n",
        "q = \"SELECT year, name, total FROM dat WHERE name = 'Mary' AND year BETWEEN 1920 AND 2000\"\n",
        "sqldf(q, globals())"
      ]
    },
    {
      "cell_type": "code",
      "execution_count": null,
      "id": "GQ3",
      "metadata": {},
      "outputs": [],
      "source": [
        "#| label: GQ3\n",
        "#| code-summary: Read and format data\n",
        "# Include and execute your code here\n",
        "\n",
        "# year with least total occurrence of Mary across the U.S.\n",
        "q = \"SELECT year, name, MIN(total) FROM dat WHERE name = 'Mary' AND year BETWEEN 1920 AND 2000\"\n",
        "sqldf(q, globals())\n",
        "# pd.unique(dat.query('name == \"Mary\"').year).min()"
      ]
    },
    {
      "cell_type": "code",
      "execution_count": null,
      "id": "GQ3",
      "metadata": {},
      "outputs": [],
      "source": [
        "#| label: GQ3\n",
        "#| code-summary: Read and format data\n",
        "# Include and execute your code here\n",
        "\n",
        "# year with greatest total occurrence of Mary across the U.S.\n",
        "q = \"SELECT year, name, MAX(total) FROM dat WHERE name = 'Mary' AND year BETWEEN 1920 AND 2000\"\n",
        "sqldf(q, globals())\n",
        "# pd.unique(dat.query('name == \"Mary\"').year).min()"
      ]
    },
    {
      "cell_type": "code",
      "execution_count": null,
      "id": "GQ3",
      "metadata": {},
      "outputs": [],
      "source": [
        "#| label: GQ3\n",
        "#| code-summary: Read and format data\n",
        "# Include and execute your code here\n",
        "\n",
        "# Total occurence of Mary 1920 to 2000\n",
        "q = \"SELECT ROUND(SUM(total)) FROM dat WHERE name = 'Mary' AND year BETWEEN 1920 AND 2000\"\n",
        "sqldf(q, globals())\n",
        "# pd.unique(dat.query('name == \"Mary\"').year).min()"
      ]
    },
    {
      "cell_type": "code",
      "execution_count": null,
      "id": "GQ3",
      "metadata": {},
      "outputs": [],
      "source": [
        "#| label: GQ3\n",
        "#| code-summary: Read and format data\n",
        "# Include and execute your code here\n",
        "\n",
        "# Average annual occurence of Mary 1920 to 1940\n",
        "q = \"SELECT ROUND(AVG(total)) FROM dat WHERE name = 'Mary' AND year BETWEEN 1920 AND 2000\"\n",
        "sqldf(q, globals())\n",
        "# pd.unique(dat.query('name == \"Mary\"').year).min()"
      ]
    },
    {
      "cell_type": "markdown",
      "id": "ad1d6854",
      "metadata": {},
      "source": [
        "_include figures in chunks and discuss your findings in the figure._\n"
      ]
    },
    {
      "cell_type": "code",
      "execution_count": null,
      "id": "GQ3-chart",
      "metadata": {},
      "outputs": [],
      "source": [
        "#| label: GQ3 chart\n",
        "#| code-summary: plot example\n",
        "#| fig-cap: My useless chart\n",
        "#| fig-align: center\n",
        "# Include and execute your code here\n",
        "\n",
        "q = \"SELECT year, name, total FROM dat WHERE name = 'Martha' AND year BETWEEN 1920 AND 2000\"\n",
        "sqldf(q, globals())\n",
        "\n",
        "# alt.Chart(dat.head(200))\\\n",
        "#     .encode(x = \"year\", y = \"Scott\")\\\n",
        "#     .mark_bar()"
      ]
    },
    {
      "cell_type": "code",
      "execution_count": null,
      "id": "GQ3A-chart",
      "metadata": {},
      "outputs": [],
      "source": [
        "#| label: GQ3A chart\n",
        "#| code-summary: plot example\n",
        "#| fig-cap: My useless chart\n",
        "#| fig-align: center\n",
        "# Include and execute your code here\n",
        "\n",
        "q = \"SELECT year, name, total FROM dat WHERE name = 'Peter' AND year BETWEEN 1920 AND 2000\"\n",
        "sqldf(q, globals())\n",
        "\n",
        "# alt.Chart(dat.head(200))\\\n",
        "#     .encode(x = \"year\", y = \"Scott\")\\\n",
        "#     .mark_bar()"
      ]
    },
    {
      "cell_type": "code",
      "execution_count": null,
      "id": "GQ3B-table",
      "metadata": {},
      "outputs": [],
      "source": [
        "#| label: GQ3B table\n",
        "#| code-summary: table example\n",
        "#| tbl-cap: Not much of a table\n",
        "#| tbl-cap-location: top\n",
        "# Include and execute your code here\n",
        "\n",
        "q = \"SELECT year, name, total FROM dat WHERE name = 'Paul' AND year BETWEEN 1920 AND 2000\"\n",
        "sqldf(q, globals())\n",
        "\n",
        "# mydat = dat.head(1000)\\\n",
        "#     .groupby('year')\\\n",
        "#     .sum()\\\n",
        "#     .reset_index()\\\n",
        "#     .tail(10)\\\n",
        "#     .filter([\"year\", \"Scott\"])\n",
        "\n",
        "# display(mydat)"
      ]
    },
    {
      "cell_type": "markdown",
      "id": "6ba84c2b",
      "metadata": {},
      "source": [
        "## GRAND QUESTION 4\n",
        "\n",
        "Think of a unique name from a famous movie. Plot the usage of that name and\n",
        "see how changes line up with the movie release. Does it look like the movie \n",
        "had an effect on usage?\n",
        "\n",
        "\n",
        "\n",
        "_type your results and analysis here_\n"
      ]
    },
    {
      "cell_type": "code",
      "execution_count": null,
      "id": "GQ4",
      "metadata": {},
      "outputs": [],
      "source": [
        "#| label: GQ4\n",
        "#| code-summary: Read and format data\n",
        "# Include and execute your code here\n",
        "#  Star Wars release dates 77, 80, 83, 99, 02, 05, 15, 17, 19\n",
        "q = \"SELECT year, name, total FROM dat WHERE name = 'Luke' AND year BETWEEN 1960 AND 2000\"\n",
        "sqldf(q, globals())"
      ]
    },
    {
      "cell_type": "markdown",
      "id": "3f464f69",
      "metadata": {},
      "source": [
        "_include figures in chunks and discuss your findings in the figure._\n"
      ]
    },
    {
      "cell_type": "code",
      "execution_count": null,
      "id": "GQ4-chart",
      "metadata": {},
      "outputs": [],
      "source": [
        "#| label: GQ4 chart\n",
        "#| code-summary: plot example\n",
        "#| fig-cap: My useless chart\n",
        "#| fig-align: center\n",
        "# Include and execute your code here\n",
        "\n",
        "q = \"SELECT year, name, total FROM dat WHERE name = 'Leia' AND year BETWEEN 1960 AND 2000\"\n",
        "sqldf(q, globals())\n",
        "\n",
        "# alt.Chart(dat.head(200))\\\n",
        "#     .encode(x = \"name\", y = \"AK\")\\\n",
        "#     .mark_bar()"
      ]
    },
    {
      "cell_type": "code",
      "execution_count": null,
      "id": "GQ4-table",
      "metadata": {},
      "outputs": [],
      "source": [
        "#| label: GQ4 table\n",
        "#| code-summary: table example\n",
        "#| tbl-cap: Not much of a table\n",
        "#| tbl-cap-location: top\n",
        "# Include and execute your code here\n",
        "mydat = dat.head(1000)\\\n",
        "    .groupby('year')\\\n",
        "    .sum()\\\n",
        "    .reset_index()\\\n",
        "    .tail(10)\\\n",
        "    .filter([\"year\", \"AK\",\"AR\"])\n",
        "\n",
        "display(mydat)"
      ]
    },
    {
      "cell_type": "markdown",
      "id": "e76c4a9d",
      "metadata": {},
      "source": [
        "## APPENDIX A (Additional Python Code)\n",
        "\n",
        "```python\n",
        "#paste other your code from your python file (.py) here\n",
        "```"
      ]
    }
  ],
  "metadata": {
    "kernelspec": {
      "display_name": "Python 3.10.7 64-bit",
      "language": "python",
      "name": "python3"
    },
    "language_info": {
      "name": "python",
      "version": "3.10.7"
    },
    "vscode": {
      "interpreter": {
        "hash": "369f2c481f4da34e4445cda3fffd2e751bd1c4d706f27375911949ba6bb62e1c"
      }
    }
  },
  "nbformat": 4,
  "nbformat_minor": 5
}
