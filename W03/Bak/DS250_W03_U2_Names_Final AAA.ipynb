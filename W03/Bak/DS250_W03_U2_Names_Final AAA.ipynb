{
  "cells": [
    {
      "cell_type": "raw",
      "metadata": {},
      "source": [
        "---\n",
        "title: \"Client Report - W02 Project 1: What's in a name?\"\n",
        "subtitle: \"Course DS 250\"\n",
        "author: \"Scott LeFoll\"\n",
        "format:\n",
        "  html:\n",
        "    self-contained: true\n",
        "    page-layout: full\n",
        "    title-block-banner: true\n",
        "    toc: true\n",
        "    toc-depth: 3\n",
        "    toc-location: body\n",
        "    number-sections: false\n",
        "    html-math-method: katex\n",
        "    code-fold: true\n",
        "    code-summary: \"Show the code\"\n",
        "    code-overflow: wrap\n",
        "    code-copy: hover\n",
        "    code-tools:\n",
        "        source: false\n",
        "        toggle: true\n",
        "        caption: See code\n",
        "    \n",
        "---"
      ],
      "id": "ee5263bf"
    },
    {
      "cell_type": "code",
      "metadata": {},
      "source": [
        "#| label: libraries\n",
        "#| include: false\n",
        "import pandas as pd\n",
        "import altair as alt\n",
        "import numpy as np\n",
        "import pandasql as psql\n",
        "import matplotlib.pyplot as plt\n",
        "\n",
        "from pandasql import sqldf\n",
        "from sklearn import datasets\n",
        "from IPython.display import Markdown\n",
        "from IPython.display import display\n",
        "from tabulate import tabulate\n",
        "from altair import Chart, X, Y, Axis, SortField\n",
        "\n",
        "c_cp = [\"#335C67\", \"#fff3b0\", \"#e09f3e\", \"#9e2a2b\", \"#540b0e\"] \n",
        "#https://coolors.co/335c67-fff3b0-e09f3e-9e2a2b-540b0e"
      ],
      "id": "libraries",
      "execution_count": null,
      "outputs": []
    },
    {
      "cell_type": "markdown",
      "metadata": {},
      "source": [
        "## Elevator pitch\n",
        "\n",
        "You can tell a lot about a civilization from it's language, and one of the most important aspects of language are the words that we used to represent people. A name is the essence of a thing, and the trends in child names over the last century tell a story about the evolution of our culture. In this project I will show visualizations that compare the relative prominence \n",
        "of names over time, and I will also show how the popularity of names has \n",
        "changed over time.\n"
      ],
      "id": "8ae5ba61"
    },
    {
      "cell_type": "code",
      "metadata": {},
      "source": [
        "#| label: project data\n",
        "#| code-summary: Read and format project data\n",
        "# Include and execute your code here\n",
        "\n",
        "#read in url to df\n",
        "url = 'https://github.com/byuidatascience/data4names/raw/master/data-raw/names_year/names_year.csv'\n",
        "dat = pd.read_csv(url)\n",
        "#  Show some data\n",
        "dat.tail(-5)"
      ],
      "id": "project-data",
      "execution_count": null,
      "outputs": []
    },
    {
      "cell_type": "markdown",
      "metadata": {},
      "source": [
        "## GRAND QUESTION 1\n",
        "\n",
        "How does your name at your birth year compare to its use historically?\n",
        "\n",
        "The name 'Scott' showed 26,177 occurrences in the year 1964, with the largest geographic areas of usage in the Mid-west and West. Historically, the name showed minimal usage throughout the 20th century until the 1950's, when it began to appear in popular culture. The greatest spike in usage for 'Scott' appears in the mid-1960's, with the largest years being 1963 - 1966, including my own birth year. There was at least one very popular 'hit' song in 1963 that featured the name prominently, and the name was also used in a popular television show in 1964. The name 'Scott' has been used in popular culture since the 1950's, but it was not until the 1960's that it became a popular name for children. Starting in 1972 - 1973 the name began to decline in popularity, and it has been on a steady decline since then. The name 'Scott' is currently ranked 1,000th in popularity.\n",
        "\n",
        "\n",
        "GQ1 TABLE 1A -  showing the occurrence of the name 'Scott' in each U.S. state for the year 1964:\n"
      ],
      "id": "ebc38593"
    },
    {
      "cell_type": "code",
      "metadata": {},
      "source": [
        "#| label: TABLE1A\n",
        "#| code-summary: Read and format data\n",
        "# Include and execute your code here\\\n",
        "\n",
        "# query the larger data file for name and year\n",
        "mydat = dat.query('name == \"Scott\" & year == 1964')\n",
        "# melt the data so that states become rows instead of columns\n",
        "mydat_melt = mydat.melt(id_vars=['name', 'year'])\n",
        "mydat_melt.drop(columns=['name'], inplace=True)\n",
        "mydat_melt.drop(columns=['year'], inplace=True)\n",
        "\n",
        "#  rename columns\n",
        "mydat_melt.rename(columns = {'variable':'State'}, inplace = True)\n",
        "mydat_melt.rename(columns = {'value':'Total'}, inplace = True)\n",
        "\n",
        "# Get indexe where variable column equals 'Total'\n",
        "indexState = mydat_melt[mydat_melt['State'] == 'Total'].index \n",
        "# Delete these row indexes from dataFrame\n",
        "mydat_melt.drop(indexState , inplace=True)\n",
        "\n",
        "Markdown(mydat_melt.to_markdown(index=False))"
      ],
      "id": "TABLE1A",
      "execution_count": null,
      "outputs": []
    },
    {
      "cell_type": "markdown",
      "metadata": {},
      "source": [
        "GQ1 CHART 1A -  showing the occurrence of the name 'Scott' in each U.S. state for the year 1964:\n"
      ],
      "id": "a2ea8490"
    },
    {
      "cell_type": "code",
      "metadata": {},
      "source": [
        "#| label: CHART1A\n",
        "#| code-summary: Read and format data\n",
        "# Include and execute your code here\n",
        "\n",
        "# compute the total number of occurrences for 'Scott' in 1964 across all states\n",
        "\n",
        "alt.Chart(mydat_melt, title=\"Occurrences of the name 'Scott' in U.S. States in 1964\")\\\n",
        "    .encode(x=\"State:N\", y=\"Total:Q\")\\\n",
        "    .mark_bar(width = 10)\\\n",
        "    .properties(\n",
        "        width=800,\n",
        "        height=300\n",
        "\n",
        "    )\n"
      ],
      "id": "CHART1A",
      "execution_count": null,
      "outputs": []
    },
    {
      "cell_type": "markdown",
      "metadata": {},
      "source": [
        "GQ1 TABLE 2A -  showing the total occurrences of the name 'Scott' in all U.S. states for the year 1964:\n"
      ],
      "id": "0dfb7edd"
    },
    {
      "cell_type": "code",
      "metadata": {},
      "source": [
        "#| label: TABLE2A\n",
        "#| code-summary: Read and format data\n",
        "# Include and execute your code here\n",
        "\n",
        "# Display the total number of occurrences for 'Scott' in 1964 for each state, plus total\n",
        "mydat_sum = mydat[[\"name\",\"year\",\"Total\"]]\n",
        "Markdown(mydat_sum.to_markdown(index=False))\n",
        "\n",
        "# mydat_sum = mydat_melt['Total'].sum()\n",
        "# mydat_sum\n",
        "# Markdown(mydat_sum.to_markdown(index=False))\n"
      ],
      "id": "TABLE2A",
      "execution_count": null,
      "outputs": []
    },
    {
      "cell_type": "markdown",
      "metadata": {},
      "source": [
        "GQ1 CHART 2A -  showing the total occurrences of the name 'Scott' in all U.S. states for the year 1964:\n"
      ],
      "id": "87524857"
    },
    {
      "cell_type": "code",
      "metadata": {},
      "source": [
        "#| label: CHART2A\n",
        "#| code-summary: Read and format data\n",
        "# Include and execute your code here\n",
        "\n",
        "# Display the total number of occurrences for 'Scott' in 1964 for each state, plus total\n",
        "alt.Chart(mydat_sum, title=\"Total occurrences of the name 'Scott' in the U.S. in 1964\")\\\n",
        "    .encode(x=\"year:N\", y=\"Total:Q\")\\\n",
        "    .mark_bar(width = 50)\\\n",
        "    .properties(\n",
        "        width=200,\n",
        "        height=300\n",
        "\n",
        "    )\n"
      ],
      "id": "CHART2A",
      "execution_count": null,
      "outputs": []
    },
    {
      "cell_type": "markdown",
      "metadata": {},
      "source": [
        "GQ1 TABLE 3A -  showing the 5 states with the least occurrences of the name 'Scott' in the U.S. for the year 1964:\n"
      ],
      "id": "333f6fe2"
    },
    {
      "cell_type": "code",
      "metadata": {},
      "source": [
        "#| label: TABLE3A\n",
        "#| code-summary: Read and format data\n",
        "# Include and execute your code here\n",
        "\n",
        "# compute the 5 min states for occurences of 'Scott' in 1964\n",
        "\n",
        "mydat_min = mydat_melt.nsmallest(5,'Total')\n",
        "# mydat_min\n",
        "Markdown(mydat_min.to_markdown(index=False))"
      ],
      "id": "TABLE3A",
      "execution_count": null,
      "outputs": []
    },
    {
      "cell_type": "markdown",
      "metadata": {},
      "source": [
        "GQ1 CHART 3A -  showing the 5 states with the least occurrences of the name 'Scott' in the U.S. for the year 1964:\n"
      ],
      "id": "f8b337b0"
    },
    {
      "cell_type": "code",
      "metadata": {},
      "source": [
        "#| label: CHART3A\n",
        "#| code-summary: Read and format data\n",
        "# Include and execute your code here\n",
        "\n",
        "# Chart the 5 min states for occurences of 'Scott' in 1964\n",
        "\n",
        "alt.Chart(mydat_min, title=\"Five U.S. States with the least occurrences of the name 'Scott' in the U.S. in 1964\")\\\n",
        "    .encode(x=\"State:N\", y=\"Total:Q\")\\\n",
        "    .mark_bar(width = 20)\\\n",
        "    .properties(\n",
        "        width=400,\n",
        "        height=300\n",
        "\n",
        "    )\n"
      ],
      "id": "CHART3A",
      "execution_count": null,
      "outputs": []
    },
    {
      "cell_type": "markdown",
      "metadata": {},
      "source": [
        "GQ1 TABLE 4A - Table showing the 5 states with the most occurrences of the name 'Scott' in the U.S. for the year 1964:\n"
      ],
      "id": "11b24456"
    },
    {
      "cell_type": "code",
      "metadata": {},
      "source": [
        "#| label: TABLE4A\n",
        "#| code-summary: Read and format data\n",
        "# Include and execute your code here\n",
        "\n",
        "# compute the max 5 states for occurences of 'Scott' in 1964\n",
        "\n",
        "mydat_max = mydat_melt.nlargest(5,'Total')\n",
        "mydat_max\n",
        "Markdown(mydat_max.to_markdown(index=False))"
      ],
      "id": "TABLE4A",
      "execution_count": null,
      "outputs": []
    },
    {
      "cell_type": "markdown",
      "metadata": {},
      "source": [
        "GQ1 CHART 4A - Table showing the 5 states with the most occurrences of the name 'Scott' in the U.S. for the year 1964:\n"
      ],
      "id": "4214029a"
    },
    {
      "cell_type": "code",
      "metadata": {},
      "source": [
        "#| label: CHART4A\n",
        "#| code-summary: Read and format data\n",
        "# Include and execute your code here\n",
        "\n",
        "# Chart the max 5 states for occurences of 'Scott' in 1964\n",
        "\n",
        "alt.Chart(mydat_max, title=\"Five U.S. States with the largest occurrences of the name 'Scott' in the U.S. in 1964\")\\\n",
        "    .encode(x=\"State:N\", y=\"Total:Q\")\\\n",
        "    .mark_bar(width = 20)\\\n",
        "    .properties(\n",
        "        width=400,\n",
        "        height=300\n",
        "\n",
        "    )"
      ],
      "id": "CHART4A",
      "execution_count": null,
      "outputs": []
    },
    {
      "cell_type": "markdown",
      "metadata": {},
      "source": [
        "GQ1 TABLE 1B - showing the 5 states with the least occurrences of the name 'Scott' in the U.S. for the year 1964:\n"
      ],
      "id": "e96bfd31"
    },
    {
      "cell_type": "code",
      "metadata": {},
      "source": [
        "#| label: TABLE1B\n",
        "#| code-summary: Read and format data\n",
        "# Include and execute your code here\n",
        "\n",
        "# Occurrences of 'Scott' for all U.S. States for each year from 1910 - 2015 \n",
        "\n",
        "# # compute the total number of occurrences for 'Scott' for all years across all states\n",
        "mydat = dat.query('name == \"Scott\" & year > 1880')\n",
        "# melt the data so that the states become rows\n",
        "mydat_melt = mydat.melt(id_vars=['name', 'year'])\n",
        "# #  rename columns\n",
        "mydat_melt.rename(columns = {'variable':'State'}, inplace = True)\n",
        "mydat_melt.rename(columns = {'value':'Total'}, inplace = True)\n",
        "mydat_melt = mydat_melt.query('State != \"Total\"')\n",
        "mydat_melt = mydat_melt.groupby('year').Total.sum().reset_index()\n",
        "\n",
        "Markdown(mydat_melt.to_markdown(index=False))\n"
      ],
      "id": "TABLE1B",
      "execution_count": null,
      "outputs": []
    },
    {
      "cell_type": "markdown",
      "metadata": {},
      "source": [
        "GQ1 CHART 1B - showing the 5 states with the least occurrences of the name 'Scott' in the U.S. for the year 1964:\n"
      ],
      "id": "8f96d122"
    },
    {
      "cell_type": "code",
      "metadata": {},
      "source": [
        "#| label: CHART1B\n",
        "#| code-summary: Read and format data\n",
        "# Include and execute your code here\n",
        "\n",
        "# Display the total number of occurrences for 'Scott' for all years for each state, plus total\n",
        "\n",
        "alt.Chart(mydat_melt, title=\"Occurrences of the name 'Scott' accross all U.S. States from 1910 to 2015\")\\\n",
        "    .encode(x=\"year:N\", y=\"Total:Q\")\\\n",
        "    .mark_bar(width = 5)\\\n",
        "    .properties(\n",
        "        width=1100,\n",
        "        height=300\n",
        "\n",
        "    )\n"
      ],
      "id": "CHART1B",
      "execution_count": null,
      "outputs": []
    },
    {
      "cell_type": "markdown",
      "metadata": {},
      "source": [
        "GQ1 TABLE 2B - showing the total historical occurrences of the name 'Scott' for all U.S. states for the years 1910 - 2015:\n"
      ],
      "id": "bacafaf3"
    },
    {
      "cell_type": "code",
      "metadata": {},
      "source": [
        "#| label: TABLE2B\n",
        "#| code-summary: Read and format data\n",
        "# Include and execute your code here\n",
        "\n",
        "# # compute the total number of occurrences for 'Scott' for all years for each state\n",
        "mydat = dat.query('name == \"Scott\" & year > 1880')\n",
        "\n",
        "# melt the data so that the states become rows\n",
        "mydat_melt = mydat.melt(id_vars=['name', 'year'])\n",
        "\n",
        "#  rename columns\n",
        "mydat_melt.rename(columns = {'variable':'State'}, inplace = True)\n",
        "mydat_melt.rename(columns = {'value':'Total'}, inplace = True)\n",
        "mydat_melt = mydat_melt.groupby('State').Total.sum().reset_index()\n",
        "\n",
        "# Get index where variable column equals 'Total'\n",
        "indexState = mydat_melt[mydat_melt['State'] == 'Total'].index \n",
        "# Delete these row indexes from dataFrame\n",
        "mydat_melt.drop(indexState , inplace=True)\n",
        "\n",
        "Markdown(mydat_melt.to_markdown(index=False))"
      ],
      "id": "TABLE2B",
      "execution_count": null,
      "outputs": []
    },
    {
      "cell_type": "markdown",
      "metadata": {},
      "source": [
        "GQ1 CHART 2B - showing the total historical occurrences of the name 'Scott' for all U.S. states for the years 1910 - 2015:\n"
      ],
      "id": "36bdfe6e"
    },
    {
      "cell_type": "code",
      "metadata": {},
      "source": [
        "#| label: CHART2B\n",
        "#| code-summary: Read and format data\n",
        "# Include and execute your code here\n",
        "\n",
        "# # compute the total number of occurrences for 'Scott' for all years across all states\n",
        "alt.Chart(mydat_melt, title=\"Total occurrence of the name 'Scott' accross each U.S. State from 1910 to 2015\")\\\n",
        "    .encode(x=\"State:N\", y=\"Total:Q\")\\\n",
        "    .mark_bar(width = 5)\\\n",
        "    .properties(\n",
        "        width=800,\n",
        "        height=300\n",
        "\n",
        "    )\n"
      ],
      "id": "CHART2B",
      "execution_count": null,
      "outputs": []
    },
    {
      "cell_type": "markdown",
      "metadata": {},
      "source": [
        "GQ1 TABLE 3B - showing the states with the least historical occurrences of the name 'Scott' for the years 1910 - 2015:\n"
      ],
      "id": "f7d7a15c"
    },
    {
      "cell_type": "code",
      "metadata": {},
      "source": [
        "#| label: TABLE3B\n",
        "#| code-summary: Read and format data\n",
        "# Include and execute your code here\n",
        "\n",
        "# compute the 5 min states for occurences of 'Scott' across all years\n",
        "\n",
        "mydat_min = mydat_melt.nsmallest(5,'Total')\n",
        "mydat_min"
      ],
      "id": "TABLE3B",
      "execution_count": null,
      "outputs": []
    },
    {
      "cell_type": "markdown",
      "metadata": {},
      "source": [
        "GQ1 CHART 3B - showing the states with the least historical occurrences of the name 'Scott' for the years 1910 - 2015:\n"
      ],
      "id": "0e744231"
    },
    {
      "cell_type": "code",
      "metadata": {},
      "source": [
        "#| label: CHART3B\n",
        "#| code-summary: Read and format data\n",
        "# Include and execute your code here\n",
        "\n",
        "# Chart the 5 min states for occurences of 'Scott'  across all years\n",
        "\n",
        "alt.Chart(mydat_min, title=\"Five U.S. States with the least occurrences of the name 'Scott' in the U.S. from 1910 - 1915\")\\\n",
        "    .encode(x=\"State:N\", y=\"Total:Q\")\\\n",
        "    .mark_bar(width = 20)\\\n",
        "    .properties(\n",
        "        width=400,\n",
        "        height=300\n",
        "\n",
        "    )\n"
      ],
      "id": "CHART3B",
      "execution_count": null,
      "outputs": []
    },
    {
      "cell_type": "markdown",
      "metadata": {},
      "source": [
        "GQ1 TABLE 4B - showing the states with the most historical occurrences of the name 'Scott' for the years 1910 - 2015:\n"
      ],
      "id": "b4d43926"
    },
    {
      "cell_type": "code",
      "metadata": {},
      "source": [
        "#| label: TABLE4B\n",
        "#| code-summary: Read and format data\n",
        "# Include and execute your code here\n",
        "\n",
        "# compute the max 5 states for occurences of 'Scott' in 1964\n",
        "\n",
        "mydat_max = mydat_melt.nlargest(5,'Total')\n",
        "mydat_max"
      ],
      "id": "TABLE4B",
      "execution_count": null,
      "outputs": []
    },
    {
      "cell_type": "markdown",
      "metadata": {},
      "source": [
        "GQ1 CHART 4B - showing the states with the most historical occurrences of the name 'Scott' for the years 1910 - 2015:\n"
      ],
      "id": "5dc56246"
    },
    {
      "cell_type": "code",
      "metadata": {},
      "source": [
        "#| label: CHART4B\n",
        "#| code-summary: Read and format data\n",
        "# Include and execute your code here\n",
        "\n",
        "# Chart the max 5 states for occurences of 'Scott' in 1964\n",
        "\n",
        "alt.Chart(mydat_max, title=\"Five U.S. States with the largest occurrences of the name 'Scott' in the U.S. from 1910 - 1915\")\\\n",
        "    .encode(x=\"State:N\", y=\"Total:Q\")\\\n",
        "    .mark_bar(width = 20)\\\n",
        "    .properties(\n",
        "        width=400,\n",
        "        height=300\n",
        "\n",
        "    )"
      ],
      "id": "CHART4B",
      "execution_count": null,
      "outputs": []
    },
    {
      "cell_type": "markdown",
      "metadata": {},
      "source": [
        "_include figures in chunks and discuss your findings in the figure._\n",
        "\n",
        "\n",
        "## GRAND QUESTION 2\n",
        "\n",
        "If you talked to someone named Brittany on the phone, what is your guess of \n",
        "his or her age? What ages would you not guess?\n",
        "\n",
        "_type your results and analysis here_\n",
        "\n",
        "Based upon the data my best guess would be 1985 to 1998 for a birth year. The name 'Brittany' showed very little occurrence until the rise of the pop music star \"Brittany Spears,\" and rose and fell with her popularity. The name shows dramatic increase in usage in 1985, and then a dramatic decrease starting in 1998. \n",
        "\n",
        "GQ2 TABLE 1A - showing the total historical occurrences of the name 'Brittany' for each year across all U.S. states for the years 1910 - 2015:\n"
      ],
      "id": "5c70eb19"
    },
    {
      "cell_type": "code",
      "metadata": {},
      "source": [
        "#| label: GQ2 TABLE1A\n",
        "#| code-summary: Read and format data\n",
        "# Include and execute your code here\n",
        "\n",
        "# Occurrences of 'Brittany' for all U.S. States for each year from 1910 - 2015 \n",
        "\n",
        "mydat = dat.query('name == \"Brittany\" & year > 1880')\n",
        "# melt the data so that the states become rows\n",
        "mydat_melt = mydat.melt(id_vars=['name', 'year'])\n",
        "# #  rename columns\n",
        "mydat_melt.rename(columns = {'variable':'State'}, inplace = True)\n",
        "mydat_melt.rename(columns = {'value':'Total'}, inplace = True)\n",
        "mydat_melt = mydat_melt.query('State != \"Total\"')\n",
        "mydat_melt = mydat_melt.groupby('year').Total.sum().reset_index()\n",
        "\n",
        "Markdown(mydat_melt.to_markdown(index=False))"
      ],
      "id": "GQ2-TABLE1A",
      "execution_count": null,
      "outputs": []
    },
    {
      "cell_type": "markdown",
      "metadata": {},
      "source": [
        "_include figures in chunks and discuss your findings in the figure._\n",
        "\n",
        "GQ2 CHART 1A - showing the total historical occurrences of the name 'Brittany' for each year across all U.S. states for the years 1910 - 2015:\n"
      ],
      "id": "e78e1299"
    },
    {
      "cell_type": "code",
      "metadata": {},
      "source": [
        "#| label: GQ2 CHART1A\n",
        "#| code-summary: plot example\n",
        "#| fig-cap: My useless chart\n",
        "#| fig-align: center\n",
        "# Include and execute your code here\n",
        "alt.Chart(mydat_melt, title=\"Annual occurrence of the name 'Brittany' in the U.S. across all states from 1910 - 1915\")\\\n",
        "    .encode(x = \"year:N\", y = \"Total:Q\")\\\n",
        "    .mark_bar(width = 5)\\\n",
        "    .properties(\n",
        "        width=1100,\n",
        "        height=300\n",
        "\n",
        "    )"
      ],
      "id": "GQ2-CHART1A",
      "execution_count": null,
      "outputs": []
    },
    {
      "cell_type": "markdown",
      "metadata": {},
      "source": [
        "GQ2 TABLE 2A - showing the total occurrences of the name 'Brittany' in each U.S. state for the years 1910 - 2015:\n"
      ],
      "id": "cdd4248b"
    },
    {
      "cell_type": "code",
      "metadata": {},
      "source": [
        "#| label: GQ2 TABLE2A\n",
        "#| code-summary: Read and format data\n",
        "# Include and execute your code here\n",
        "\n",
        "# # compute the total number of occurrences for 'Brittany' for all years for each state\n",
        "mydat = dat.query('name == \"Brittany\" & year > 1880')\n",
        "\n",
        "# melt the data so that the states become rows\n",
        "mydat_melt = mydat.melt(id_vars=['name', 'year'])\n",
        "\n",
        "#  rename columns\n",
        "mydat_melt.rename(columns = {'variable':'State'}, inplace = True)\n",
        "mydat_melt.rename(columns = {'value':'Total'}, inplace = True)\n",
        "mydat_melt = mydat_melt.groupby('State').Total.sum().reset_index()\n",
        "\n",
        "# Get index where variable column equals 'Total'\n",
        "indexState = mydat_melt[mydat_melt['State'] == 'Total'].index \n",
        "# Delete these row indexes from dataFrame\n",
        "mydat_melt.drop(indexState , inplace=True)\n",
        "\n",
        "Markdown(mydat_melt.to_markdown(index=False))"
      ],
      "id": "GQ2-TABLE2A",
      "execution_count": null,
      "outputs": []
    },
    {
      "cell_type": "markdown",
      "metadata": {},
      "source": [
        "GQ2 CHART 2A - showing the total occurrences of the name 'Brittany' in each U.S. state for the years 1910 - 2015:\n"
      ],
      "id": "d7ba3df8"
    },
    {
      "cell_type": "code",
      "metadata": {},
      "source": [
        "#| label: GQ2 CHART2A\n",
        "#| code-summary: Read and format data\n",
        "# Include and execute your code here\n",
        "\n",
        "# # compute the total number of occurrences for 'Brittany' for all years across all states\n",
        "alt.Chart(mydat_melt, title=\"Total occurrence of the name 'Brittany' accross each U.S. State from 1910 to 2015\")\\\n",
        "    .encode(x=\"State:N\", y=\"Total:Q\")\\\n",
        "    .mark_bar(width = 5)\\\n",
        "    .properties(\n",
        "        width=800,\n",
        "        height=300\n",
        "\n",
        "    )\n"
      ],
      "id": "GQ2-CHART2A",
      "execution_count": null,
      "outputs": []
    },
    {
      "cell_type": "markdown",
      "metadata": {},
      "source": [
        "## GRAND QUESTION 3\n",
        "\n",
        "Mary, Martha, Peter, and Paul are all Christian names. From 1920 - 2000, \n",
        "compare the name usage of each of the four names. What trends do you notice?\n",
        "\n",
        "\n",
        "_type your results and analysis here_\n",
        "\n",
        "Usage of the names 'Mary' and 'Martha' both show spikes during W.W. I and W.W. II, increasing their pre-war totals by 100%, from about 20,000 to 45,000 during each war and droping back to about 30,000 between the wars. Both names exhibit the same pattern of occurrence for the last 70 years, with sharp declines in usage right after W.W. II followed by a steady decline from the 1970's to the present.\n",
        " \n",
        "Usage of the names 'Peter' and 'Paul' both show spikes during W.W. I, increasing their pre-war totals by about 200%, with no drop between the wars and a further spike of another 150% during W.W.II. Both names exhibit the same pattern of occurrence for the last 70 years, with sharp spikes in the 1960's with the rebirth of interest in spiritual concepts and folk music in the 1960's follwed by a steady decline from the 1970's to the present.\n",
        " \n",
        "The rise for all four names during both world wars makes sense considering that it was a time of grave instability and danger for the world, for the nation and for individuals. People were reaching for stability, for peace, for tradition and for continuity and looking to the Bible to find it.\n",
        "\n",
        "GQ3 TABLE 1A - showing the total historical occurrences of the name 'Mary' in all U.S. states for each of the years 1910 - 2015:\n"
      ],
      "id": "b75373b3"
    },
    {
      "cell_type": "code",
      "metadata": {},
      "source": [
        "#| label: GQ3 TABLE1A\n",
        "#| code-summary: Read and format data\n",
        "# Include and execute your code here\n",
        "\n",
        "# Occurrences of 'Mary' for all U.S. States for each year from 1910 - 2015 \n",
        "\n",
        "mydat = dat.query('name == \"Mary\" & year > 1880')\n",
        "# melt the data so that the states become rows\n",
        "mydat_melt = mydat.melt(id_vars=['name', 'year'])\n",
        "# #  rename columns\n",
        "mydat_melt.rename(columns = {'variable':'State'}, inplace = True)\n",
        "mydat_melt.rename(columns = {'value':'Total'}, inplace = True)\n",
        "mydat_melt = mydat_melt.query('State != \"Total\"')\n",
        "mydat_melt = mydat_melt.groupby('year').Total.sum().reset_index()\n",
        "\n",
        "Markdown(mydat_melt.to_markdown(index=False))\n"
      ],
      "id": "GQ3-TABLE1A",
      "execution_count": null,
      "outputs": []
    },
    {
      "cell_type": "markdown",
      "metadata": {},
      "source": [
        "GQ3 CHART 1A - showing the total historical occurrences of the name 'Mary' in all U.S. states for each of the years 1910 - 2015:\n"
      ],
      "id": "4e6013b3"
    },
    {
      "cell_type": "code",
      "metadata": {},
      "source": [
        "#| label: GQ3 CHART1A\n",
        "#| code-summary: Read and format data\n",
        "# Include and execute your code here\n",
        "\n",
        "# Display the total number of occurrences for 'Mary' for all years for each state, plus total\n",
        "\n",
        "chart = alt.Chart(mydat_melt, title=\"Occurrences of the name 'Mary' accross all U.S. States from 1910 to 2015\")\\\n",
        "    .encode(x=\"year:N\", y=\"Total:Q\")\\\n",
        "    .mark_bar(width = 5)\\\n",
        "    .properties(\n",
        "        width=1100,\n",
        "        height=300\n",
        "\n",
        "    )\n",
        "\n",
        "lines_df = pd.DataFrame({'big_events': [1914, 1918, 1939, 1945, 1962, 1969]})\n",
        "\n",
        "rules = (\n",
        "    alt.Chart(lines_df)\n",
        "    .mark_rule(\n",
        "        color = c_cp[4],\n",
        "        opacity= 0.35,\n",
        "        size = 1\n",
        "    )\n",
        "    .encode(\n",
        "        # x = alt.X(\"x:Q\", scale = alt.Scale(domain = (1910, 2015)))\n",
        "        x = \"big_events:N\")\n",
        "    .properties(\n",
        "        width = 1100,\n",
        "        height = 400\n",
        "        # scale = alt.Scale(domain = (1910, 2015))\n",
        "    )\n",
        ")\n",
        "\n",
        "chart + rules"
      ],
      "id": "GQ3-CHART1A",
      "execution_count": null,
      "outputs": []
    },
    {
      "cell_type": "markdown",
      "metadata": {},
      "source": [
        "GQ3 TABLE 2A - showing the total historical occurrences of the name 'Martha' in all U.S. states for each of the years 1910 - 2015:\n"
      ],
      "id": "881621d3"
    },
    {
      "cell_type": "code",
      "metadata": {},
      "source": [
        "#| label: GQ3 TABLE2A\n",
        "#| code-summary: Read and format data\n",
        "# Include and execute your code here\n",
        "\n",
        "# Occurrences of 'Martha' for all U.S. States for each year from 1910 - 2015 \n",
        "\n",
        "mydat = dat.query('name == \"Martha\" & year > 1880')\n",
        "# melt the data so that the states become rows\n",
        "mydat_melt = mydat.melt(id_vars=['name', 'year'])\n",
        "# #  rename columns\n",
        "mydat_melt.rename(columns = {'variable':'State'}, inplace = True)\n",
        "mydat_melt.rename(columns = {'value':'Total'}, inplace = True)\n",
        "mydat_melt = mydat_melt.query('State != \"Total\"')\n",
        "mydat_melt = mydat_melt.groupby('year').Total.sum().reset_index()\n",
        "\n",
        "Markdown(mydat_melt.to_markdown(index=False))\n"
      ],
      "id": "GQ3-TABLE2A",
      "execution_count": null,
      "outputs": []
    },
    {
      "cell_type": "markdown",
      "metadata": {},
      "source": [
        "GQ3 CHART 2A - showing the total historical occurrences of the name 'Martha' in all U.S. states for each of the years 1910 - 2015:\n"
      ],
      "id": "ee7af2ad"
    },
    {
      "cell_type": "code",
      "metadata": {},
      "source": [
        "#| label: GQ3 CHART2A\n",
        "#| code-summary: Read and format data\n",
        "# Include and execute your code here\n",
        "\n",
        "# Display the total number of occurrences for 'Martha' for all years for each state, plus total\n",
        "\n",
        "chart = alt.Chart(mydat_melt, title=\"Occurrences of the name 'Martha' accross all U.S. States from 1910 to 2015, with W.W.I, W.W.II & 60's Revolution plotted\")\\\n",
        "    .encode(x=\"year:N\", y=\"Total:Q\")\\\n",
        "    .mark_bar(width = 5)\\\n",
        "    .properties(\n",
        "        width=1100,\n",
        "        height=300\n",
        "\n",
        "    )\n",
        "\n",
        "lines_df = pd.DataFrame({'big_events': [1914, 1918, 1939, 1945, 1962, 1969]})\n",
        "\n",
        "rules = (\n",
        "    alt.Chart(lines_df)\n",
        "    .mark_rule(\n",
        "        color = c_cp[4],\n",
        "        opacity= 0.35,\n",
        "        size = 1\n",
        "    )\n",
        "    .encode(\n",
        "        # x = alt.X(\"x:Q\", scale = alt.Scale(domain = (1910, 2015)))\n",
        "        x = \"big_events:N\")\n",
        "    .properties(\n",
        "        width = 1100,\n",
        "        height = 400\n",
        "        # scale = alt.Scale(domain = (1910, 2015))\n",
        "    )\n",
        ")\n",
        "\n",
        "chart + rules"
      ],
      "id": "GQ3-CHART2A",
      "execution_count": null,
      "outputs": []
    },
    {
      "cell_type": "markdown",
      "metadata": {},
      "source": [
        "GQ3 TABLE 3A - showing the total historical occurrences of the name 'Peter' in all U.S. states for each of the years 1910 - 2015:\n"
      ],
      "id": "01201e99"
    },
    {
      "cell_type": "code",
      "metadata": {},
      "source": [
        "#| label: GQ3 TABLE3A\n",
        "#| code-summary: Read and format data\n",
        "# Include and execute your code here\n",
        "\n",
        "# Occurrences of 'Peter' for all U.S. States for each year from 1910 - 2015 \n",
        "\n",
        "mydat = dat.query('name == \"Peter\" & year > 1880')\n",
        "# melt the data so that the states become rows\n",
        "mydat_melt = mydat.melt(id_vars=['name', 'year'])\n",
        "# #  rename columns\n",
        "mydat_melt.rename(columns = {'variable':'State'}, inplace = True)\n",
        "mydat_melt.rename(columns = {'value':'Total'}, inplace = True)\n",
        "mydat_melt = mydat_melt.query('State != \"Total\"')\n",
        "mydat_melt = mydat_melt.groupby('year').Total.sum().reset_index()\n",
        "\n",
        "Markdown(mydat_melt.to_markdown(index=False))\n"
      ],
      "id": "GQ3-TABLE3A",
      "execution_count": null,
      "outputs": []
    },
    {
      "cell_type": "markdown",
      "metadata": {},
      "source": [
        "GQ3 CHART 3A - showing the total historical occurrences of the name 'Peter' in all U.S. states for each of the years 1910 - 2015:\n"
      ],
      "id": "60226417"
    },
    {
      "cell_type": "code",
      "metadata": {},
      "source": [
        "#| label: GQ3 CHART3A\n",
        "#| code-summary: Read and format data\n",
        "# Include and execute your code here\n",
        "\n",
        "# Display the total number of occurrences for 'Peter' for all years for each state, plus total\n",
        "\n",
        "chart = alt.Chart(mydat_melt, title=\"Occurrences of the name 'Peter' accross all U.S. States from 1910 to 2015\")\\\n",
        "    .encode(x=\"year:N\", y=\"Total:Q\")\\\n",
        "    .mark_bar(width = 5)\\\n",
        "    .properties(\n",
        "        width=1100,\n",
        "        height=300\n",
        "\n",
        "    )\n",
        "\n",
        "lines_df = pd.DataFrame({'big_events': [1914, 1918, 1939, 1945, 1962, 1969]})\n",
        "\n",
        "rules = (\n",
        "    alt.Chart(lines_df)\n",
        "    .mark_rule(\n",
        "        color = c_cp[4],\n",
        "        opacity= 0.35,\n",
        "        size = 1\n",
        "    )\n",
        "    .encode(\n",
        "        # x = alt.X(\"x:Q\", scale = alt.Scale(domain = (1910, 2015)))\n",
        "        x = \"big_events:N\")\n",
        "    .properties(\n",
        "        width = 1100,\n",
        "        height = 400\n",
        "        # scale = alt.Scale(domain = (1910, 2015))\n",
        "    )\n",
        ")\n",
        "\n",
        "chart + rules"
      ],
      "id": "GQ3-CHART3A",
      "execution_count": null,
      "outputs": []
    },
    {
      "cell_type": "markdown",
      "metadata": {},
      "source": [
        "GQ3 TABLE 4A - showing the total historical occurrences of the name 'Paul' in all U.S. states for each of the years 1910 - 2015:\n"
      ],
      "id": "62c32f4a"
    },
    {
      "cell_type": "code",
      "metadata": {},
      "source": [
        "#| label: GQ3 TABLE4A\n",
        "#| code-summary: Read and format data\n",
        "# Include and execute your code here\n",
        "\n",
        "# Occurrences of 'Paul' for all U.S. States for each year from 1910 - 2015 \n",
        "\n",
        "mydat = dat.query('name == \"Paul\" & year > 1880')\n",
        "# melt the data so that the states become rows\n",
        "mydat_melt = mydat.melt(id_vars=['name', 'year'])\n",
        "# #  rename columns\n",
        "mydat_melt.rename(columns = {'variable':'State'}, inplace = True)\n",
        "mydat_melt.rename(columns = {'value':'Total'}, inplace = True)\n",
        "mydat_melt = mydat_melt.query('State != \"Total\"')\n",
        "mydat_melt = mydat_melt.groupby('year').Total.sum().reset_index()\n",
        "\n",
        "Markdown(mydat_melt.to_markdown(index=False))\n"
      ],
      "id": "GQ3-TABLE4A",
      "execution_count": null,
      "outputs": []
    },
    {
      "cell_type": "markdown",
      "metadata": {},
      "source": [
        "GQ3 CHART 4A - showing the total historical occurrences of the name 'Paul' in all U.S. states for each of the years 1910 - 2015:\n"
      ],
      "id": "6193cbc0"
    },
    {
      "cell_type": "code",
      "metadata": {},
      "source": [
        "#| label: GQ3 CHART4A\n",
        "#| code-summary: Read and format data\n",
        "# Include and execute your code here\n",
        "\n",
        "# Display the total number of occurrences for 'Paul' for all years for each state, plus total\n",
        "\n",
        "chart = alt.Chart(mydat_melt, title=\"Occurrences of the name 'Paul' accross all U.S. States from 1910 to 2015\")\\\n",
        "    .encode(x=\"year:N\", y=\"Total:Q\")\\\n",
        "    .mark_bar(width = 5)\\\n",
        "    .properties(\n",
        "        width=1100,\n",
        "        height=300\n",
        "\n",
        "    )\n",
        "\n",
        "lines_df = pd.DataFrame({'big_events': [1914, 1918, 1939, 1945, 1962, 1969]})\n",
        "\n",
        "rules = (\n",
        "    alt.Chart(lines_df)\n",
        "    .mark_rule(\n",
        "        color = c_cp[4],\n",
        "        opacity= 0.35,\n",
        "        size = 1\n",
        "    )\n",
        "    .encode(\n",
        "        # x = alt.X(\"x:Q\", scale = alt.Scale(domain = (1910, 2015)))\n",
        "        x = \"big_events:N\")\n",
        "    .properties(\n",
        "        width = 1100,\n",
        "        height = 400\n",
        "        # scale = alt.Scale(domain = (1910, 2015))\n",
        "    )\n",
        ")\n",
        "\n",
        "chart + rules"
      ],
      "id": "GQ3-CHART4A",
      "execution_count": null,
      "outputs": []
    },
    {
      "cell_type": "markdown",
      "metadata": {},
      "source": [
        "## GRAND QUESTION 4\n",
        "\n",
        "Think of a unique name from a famous movie. Plot the usage of that name and\n",
        "see how changes line up with the movie release. Does it look like the movie \n",
        "had an effect on usage?\n",
        "\n",
        " - Leia and Luke from Star Wars\n",
        "\n",
        "_type your results and analysis here_\n",
        "\n",
        "'Luke' and 'Leia' are the names of the two principal characters in the Star Wars series of movies. The popularity of both names rose significantly on the release of the first movie in 1977, and showed additional bumps with each subsequent release (1980, 1983, 1999, 2002, 2005, 2015, 2017, 2019). The popularity of the names has remained high since the release of the first movie, and has not declined since the release of the last movie in 2019. The last series of movies (2015, 2017, 2019) created a new bump in popularity for the names, far exceeding previous spikes (500%).\n",
        "\n",
        "GQ4 TABLE 1A - showing the total historical occurrences of the name 'Leia' in all U.S. states for each of the years 1910 - 2015:\n"
      ],
      "id": "2b548e0a"
    },
    {
      "cell_type": "code",
      "metadata": {},
      "source": [
        "#| label: GQ4 TABLE1A\n",
        "#| code-summary: Read and format data\n",
        "# Include and execute your code here\n",
        "\n",
        "# Occurrences of 'Leia' for all U.S. States for each year from 1910 - 2015 \n",
        "\n",
        "mydat = dat.query('name == \"Leia\" & year > 1880')\n",
        "# melt the data so that the states become rows\n",
        "mydat_melt = mydat.melt(id_vars=['name', 'year'])\n",
        "# #  rename columns\n",
        "mydat_melt.rename(columns = {'variable':'State'}, inplace = True)\n",
        "mydat_melt.rename(columns = {'value':'Total'}, inplace = True)\n",
        "mydat_melt = mydat_melt.query('State != \"Total\"')\n",
        "mydat_melt = mydat_melt.groupby('year').Total.sum().reset_index()\n",
        "\n",
        "Markdown(mydat_melt.to_markdown(index=False))\n"
      ],
      "id": "GQ4-TABLE1A",
      "execution_count": null,
      "outputs": []
    },
    {
      "cell_type": "markdown",
      "metadata": {},
      "source": [
        "GQ4 CHART 1A - showing the total historical occurrences of the name 'Leia' in all U.S. states for each of the years 1910 - 2015:\n"
      ],
      "id": "25ae6cd8"
    },
    {
      "cell_type": "code",
      "metadata": {},
      "source": [
        "#| label: GQ4 CHART1A\n",
        "#| code-summary: Read and format data\n",
        "# Include and execute your code here\n",
        "\n",
        "# Display the total number of occurrences for 'Leia' for all years for each state, plus total\n",
        "\n",
        "chart = alt.Chart(mydat_melt, title=\"Occurrences of the name 'Luke' accross all U.S. States from 1910 to 2015, with Star Wars movie releases plotted\")\\\n",
        "    .encode(x=\"year:N\", y=\"Total:Q\")\\\n",
        "    .mark_bar(width = 10)\\\n",
        "    .properties(\n",
        "        width=800,\n",
        "        height=300\n",
        "    )\n",
        "\n",
        "lines_df = pd.DataFrame({'movie_releases': [1977, 1980, 1983, 1999, 2002, 2005, 2015]})\n",
        "\n",
        "rules = (\n",
        "    alt.Chart(lines_df)\n",
        "    .mark_rule(\n",
        "        color = c_cp[4],\n",
        "        opacity= 0.35,\n",
        "        size = 1\n",
        "    )\n",
        "    .encode(\n",
        "        # x = alt.X(\"x:Q\", scale = alt.Scale(domain = (1910, 2015)))\n",
        "        x = \"movie_releases:N\")\n",
        "    .properties(\n",
        "        width = 800,\n",
        "        height = 400\n",
        "        # scale = alt.Scale(domain = (1910, 2015))\n",
        "    )\n",
        ")\n",
        "\n",
        "\n",
        "chart + rules\n"
      ],
      "id": "GQ4-CHART1A",
      "execution_count": null,
      "outputs": []
    },
    {
      "cell_type": "markdown",
      "metadata": {},
      "source": [
        "GQ4 TABLE 2A - showing the total historical occurrences of the name 'Luke' in all U.S. states for each of the years 1910 - 2015:\n"
      ],
      "id": "c1548566"
    },
    {
      "cell_type": "code",
      "metadata": {},
      "source": [
        "#| label: GQ4 TABLE2A\n",
        "#| code-summary: Read and format data\n",
        "# Include and execute your code here\n",
        "\n",
        "# Occurrences of 'Luke' for all U.S. States for each year from 1910 - 2015 \n",
        "\n",
        "mydat = dat.query('name == \"Luke\" & year > 1880')\n",
        "# melt the data so that the states become rows\n",
        "mydat_melt = mydat.melt(id_vars=['name', 'year'])\n",
        "# #  rename columns\n",
        "mydat_melt.rename(columns = {'variable':'State'}, inplace = True)\n",
        "mydat_melt.rename(columns = {'value':'Total'}, inplace = True)\n",
        "mydat_melt = mydat_melt.query('State != \"Total\"')\n",
        "mydat_melt = mydat_melt.groupby('year').Total.sum().reset_index()\n",
        "\n",
        "Markdown(mydat_melt.to_markdown(index=False))\n"
      ],
      "id": "GQ4-TABLE2A",
      "execution_count": null,
      "outputs": []
    },
    {
      "cell_type": "markdown",
      "metadata": {},
      "source": [
        "GQ4 CHART 2A - showing the total historical occurrences of the name 'Luke' in all U.S. states for each of the years 1910 - 2015:\n"
      ],
      "id": "df60df92"
    },
    {
      "cell_type": "code",
      "metadata": {},
      "source": [
        "#| label: GQ4 CHART2A\n",
        "#| code-summary: Read and format data\n",
        "# Include and execute your code here\n",
        "\n",
        "# Display the total number of occurrences for 'Luke' for all years for each state, plus total\n",
        "\n",
        "chart = alt.Chart(mydat_melt, title=\"Occurrences of the name 'Luke' accross all U.S. States from 1910 to 2015, with Star Wars movie releases plotted\")\\\n",
        "    .encode(x=\"year:N\", y=\"Total:Q\")\\\n",
        "    .mark_bar(width = 5)\\\n",
        "    .properties(\n",
        "        width=1100,\n",
        "        height=300\n",
        "    )\n",
        "\n",
        "lines_df = pd.DataFrame({'movie_releases': [1977, 1980, 1983, 1999, 2002, 2005, 2015]})\n",
        "\n",
        "rules = (\n",
        "    alt.Chart(lines_df)\n",
        "    .mark_rule(\n",
        "        color = c_cp[4],\n",
        "        opacity= 0.35,\n",
        "        size = 1\n",
        "    )\n",
        "    .encode(\n",
        "        # x = alt.X(\"x:Q\", scale = alt.Scale(domain = (1910, 2015)))\n",
        "        x = \"movie_releases:N\")\n",
        "    .properties(\n",
        "        width = 1100,\n",
        "        height = 400\n",
        "        # scale = alt.Scale(domain = (1910, 2015))\n",
        "    )\n",
        ")\n",
        "\n",
        "\n",
        "chart + rules"
      ],
      "id": "GQ4-CHART2A",
      "execution_count": null,
      "outputs": []
    },
    {
      "cell_type": "markdown",
      "metadata": {},
      "source": [
        "## APPENDIX A (Additional Python Code)\n",
        "\n",
        "```python\n",
        "#paste other your code from your python file (.py) here\n",
        "```"
      ],
      "id": "2f9b0333"
    }
  ],
  "metadata": {
    "kernelspec": {
      "name": "python3",
      "language": "python",
      "display_name": "Python 3 (ipykernel)"
    }
  },
  "nbformat": 4,
  "nbformat_minor": 5
}