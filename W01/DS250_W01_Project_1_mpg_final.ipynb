{
  "cells": [
    {
      "cell_type": "raw",
      "metadata": {},
      "source": [
        "---\n",
        "title: \"Client Report - W01 Project )0: Introduction - MPG\"\n",
        "subtitle: \"Course DS 250\"\n",
        "author: \"Scott LeFoll\"\n",
        "Date: \"09/17/2022\"\n",
        "format:\n",
        "  html:\n",
        "    self-contained: true\n",
        "    page-layout: full\n",
        "    title-block-banner: true\n",
        "    toc: true\n",
        "    toc-depth: 3\n",
        "    toc-location: body\n",
        "    number-sections: false\n",
        "    html-math-method: katex\n",
        "    code-fold: true\n",
        "    code-summary: \"Show the code\"\n",
        "    code-overflow: wrap\n",
        "    code-copy: hover\n",
        "    code-tools:\n",
        "        source: false\n",
        "        toggle: true\n",
        "        caption: See code\n",
        "---"
      ],
      "id": "08fc8186"
    },
    {
      "cell_type": "code",
      "metadata": {},
      "source": [
        "#| label: libraries\n",
        "#| include: false\n",
        "import pandas as pd\n",
        "import altair as alt\n",
        "import numpy as np\n",
        "import matplotlib.pyplot as plt\n",
        "\n",
        "from IPython.display import Markdown\n",
        "from IPython.display import display\n",
        "from tabulate import tabulate"
      ],
      "id": "libraries",
      "execution_count": null,
      "outputs": []
    },
    {
      "cell_type": "markdown",
      "metadata": {},
      "source": [
        "## Elevator pitch\n",
        "\n",
        "The importance of fuel efficiency in gasoline-powered vehicles has never been\n",
        "more relevent than today. The average fuel economy of new vehicles sold in the \n",
        "United States has increased by 25% since 2007, and the average fuel economy of \n",
        "new vehicles in the United States is now 36 miles per gallon (mpg) in 2021. \n",
        "This is a significant improvement over the last decade, but efficiency is \n",
        "slated to rise another 25% by 2026.\n",
        "\n",
        "This project produces a visual analysis of comparative fuel efficiences of cars \n",
        "from 1999 to 2008, as a base reference point with which to compare contemporary \n",
        "vehicles. The comparative fuel efficiencies are related to three indpendent \n",
        "variables for each model: engine displacement, # of cylinders, and transmission\n",
        "type. A total of 38 popular models are included, and cars that were not \n",
        "continuously produced in that time period were not included. The data is \n",
        "sourced from the U.S. EPA (https://archive.ics.uci.edu/ml/datasets/Auto+MPG). \n",
        "The data is a subset of the original data at http://fueleconomy.gov, and may \n",
        "be retrieved from https://github.com/tidyverse/ggplot2 . The variables are: \n",
        "model, displ, year, cyl, trans, drv, cty, hwy, fl, class.\n"
      ],
      "id": "d0c04cfd"
    },
    {
      "cell_type": "code",
      "metadata": {},
      "source": [
        "#| label: W01 Project 0 Data\n",
        "#| code-summary: Read and format project data\n",
        "# Include and execute your code here\n",
        "url = \"https://github.com/byuidatascience/data4python4ds/raw/master/data-raw/mpg/mpg.csv\"\n",
        "mpg = pd.read_csv(url)\n",
        "dat = pd.read_csv(url)"
      ],
      "id": "W01-Project-0-Data",
      "execution_count": null,
      "outputs": []
    },
    {
      "cell_type": "markdown",
      "metadata": {},
      "source": [
        "## GRAND QUESTION 1\n",
        "\n",
        "W01 Task 1: Finish the readings and be prepared with any questions to get your environment working smoothly (class for on-campus and Slack for online).\n",
        "\n",
        "W01 Task 2: In VS Code, write a python script to create the example Altair chart from \n",
        "section 3.2.2 of the textbook (part of the assigned readings). Note that you \n",
        "have to type chart to see the Altair chart after you create it.\n",
        "\n",
        "W01 Task 3 Your final report should also include the markdown table.\n",
        "\n",
        "Grand Question 1: What is the relationship between fuel efficiency and engine displacement among popular models in the years 1999 - 2008?\n"
      ],
      "id": "5bdeddae"
    },
    {
      "cell_type": "code",
      "metadata": {},
      "source": [
        "#| label: GQ1\n",
        "#| code-summary: Build Chart\n",
        "\n",
        "# chart = (alt.Chart(mpg)\n",
        "#   .encode(\n",
        "#     x='displ', \n",
        "#     y='hwy')\n",
        "#   .mark_circle()\n",
        "# )\n",
        "\n",
        "alt.Chart(dat.head(200))\\\n",
        "    .encode(x=\"displ\", y=\"hwy\")\\\n",
        "    .mark_bar()\\\n",
        "    .properties(\n",
        "        width=800,\n",
        "        height=300\n",
        "    )"
      ],
      "id": "GQ1",
      "execution_count": null,
      "outputs": []
    },
    {
      "cell_type": "code",
      "metadata": {},
      "source": [
        "#| label: GQ2 chart\n",
        "#| code-summary: Save chart 1 - Displacement vs. Highway MPG\n",
        "#| fig-cap: 'Popular Models, 1999-2008: Displacement vs. Highway MPG'\n",
        "#| fig-align: center\n",
        "# plot the mpg chart\n",
        "\n",
        "alt.Chart(dat.head(200))\\\n",
        "    .encode(x = \"displ\", y = \"hwy\")\\\n",
        "    .mark_bar()\n",
        "\n",
        "# chart\n",
        "# chart.save(\"screenshots/altair_viz_1_displ.html\")\n",
        "# chart.save(\"screenshots/altair_viz_1_displ.json\")\n"
      ],
      "id": "GQ2-chart",
      "execution_count": null,
      "outputs": []
    },
    {
      "cell_type": "code",
      "metadata": {},
      "source": [
        "#| label: GQ3 table\n",
        "#| code-summary: Display Table 1 in Terminal and HTML v.1\n",
        "#| tbl-cap: Popular Models Highway Fuel Efficiency\n",
        "#| tbl-cap-location: top\n",
        "# Include and execute your code here\n",
        "\n",
        "# print()\n",
        "print(mpg\n",
        "  .head(5)\n",
        "  .filter([\"manufacturer\", \"model\",\"year\", \"hwy\", \"displ\"])\n",
        "  .to_markdown(index=False))\n",
        "# print()\n"
      ],
      "id": "GQ3-table",
      "execution_count": null,
      "outputs": []
    },
    {
      "cell_type": "code",
      "metadata": {},
      "source": [
        "#| label: GQ3A table\n",
        "#| code-summary: Display Table 1 in Terminal and HTML v.2\n",
        "#| tbl-cap: Popular Models Highway Fuel Efficiency\n",
        "#| tbl-cap-location: top\n",
        "# Include and execute your code here\n",
        "\n",
        "\n",
        "\n",
        "mydat = dat.head(1000)\\\n",
        "    .groupby('manufacturer')\\\n",
        "    .sum()\\\n",
        "    .reset_index()\\\n",
        "    .tail(10)\\\n",
        "    .filter([\"manufacturer\", \"model\",\"year\", \"hwy\", \"displ\"])\n",
        "\n",
        "display(mydat)"
      ],
      "id": "GQ3A-table",
      "execution_count": null,
      "outputs": []
    },
    {
      "cell_type": "code",
      "metadata": {},
      "source": [
        "#| label: GQ3B chart\n",
        "#| code-summary: Display Table 1 in HTML v.3\n",
        "# Include and execute your code here\n",
        "\n",
        "Markdown(mydat.to_markdown(index=False))"
      ],
      "id": "GQ3B-chart",
      "execution_count": null,
      "outputs": []
    },
    {
      "cell_type": "markdown",
      "metadata": {},
      "source": [
        "## GRAND QUESTION 2\n",
        "\n",
        "Grand Question 2: What is the relationship between fuel efficiency and number of cylinders among popular models in the years 1999 - 2008?\n"
      ],
      "id": "5d40d9f0"
    },
    {
      "cell_type": "code",
      "metadata": {},
      "source": [
        "#| label: GQ4\n",
        "#| code-summary: Read and format data\n",
        "# Include and execute your code here\n",
        "\n",
        "# chart = (alt.Chart(mpg)\n",
        "#   .encode(\n",
        "#     x='cyl', \n",
        "#     y='hwy')\n",
        "#   .mark_circle()\n",
        "# )\n",
        "\n",
        "alt.Chart(dat.head(200))\\\n",
        "    .encode(x=\"cyl\", y=\"hwy\")\\\n",
        "    .mark_bar()\\\n",
        "    .properties(\n",
        "        width=800,\n",
        "        height=300\n",
        "    )"
      ],
      "id": "GQ4",
      "execution_count": null,
      "outputs": []
    },
    {
      "cell_type": "code",
      "metadata": {},
      "source": [
        "#| label: GQ5 chart\n",
        "#| code-summary: Save chart 2 - Cylinders vs. Highway MPG\n",
        "#| fig-cap: 'Popular Models, 1999-2008: Cylinders vs. Highway MPG'\n",
        "#| fig-align: center\n",
        "# Include and execute your code here\n",
        "\n",
        "alt.Chart(dat.head(200))\\\n",
        "    .encode(x = \"cyl\", y = \"hwy\")\\\n",
        "    .mark_bar()\n",
        "\n",
        "# chart\n",
        "# chart.save(\"screenshots/altair_viz_2_cyl.html\")\n",
        "# chart.save(\"screenshots/altair_viz_2_cyl.json\")"
      ],
      "id": "GQ5-chart",
      "execution_count": null,
      "outputs": []
    },
    {
      "cell_type": "code",
      "metadata": {},
      "source": [
        "#| label: GQ6 table\n",
        "#| code-summary: Display Table 2 in Terminal and HTML v.1\n",
        "#| tbl-cap: Popular Models Highway Fuel Efficiency\n",
        "#| tbl-cap-location: top\n",
        "# Include and execute your code here\n",
        "\n",
        "# print()\n",
        "print(mpg\n",
        "  .head(5)\n",
        "  .filter([\"manufacturer\", \"model\",\"year\", \"hwy\", \"cyl\"])\n",
        "  .to_markdown(index=False))\n",
        "# print()\n"
      ],
      "id": "GQ6-table",
      "execution_count": null,
      "outputs": []
    },
    {
      "cell_type": "code",
      "metadata": {},
      "source": [
        "#| label: GQ6A table\n",
        "#| code-summary: Display Table 2 in Terminal and HTML v.2\n",
        "#| tbl-cap: Popular Models Highway Fuel Efficiency\n",
        "#| tbl-cap-location: top\n",
        "# Include and execute your code here\n",
        "\n",
        "\n",
        "mydat = dat.head(1000)\\\n",
        "    .groupby('manufacturer')\\\n",
        "    .sum()\\\n",
        "    .reset_index()\\\n",
        "    .tail(10)\\\n",
        "    .filter([\"manufacturer\", \"model\",\"year\", \"hwy\", \"cyl\"])\n",
        "\n",
        "display(mydat)"
      ],
      "id": "GQ6A-table",
      "execution_count": null,
      "outputs": []
    },
    {
      "cell_type": "code",
      "metadata": {},
      "source": [
        "#| label: GQ6B chart\n",
        "#| code-summary: Display Table 2 in HTML v.3\n",
        "# Include and execute your code here\n",
        "\n",
        "Markdown(mydat.to_markdown(index=False))"
      ],
      "id": "GQ6B-chart",
      "execution_count": null,
      "outputs": []
    },
    {
      "cell_type": "markdown",
      "metadata": {},
      "source": [
        "## GRAND QUESTION 3\n",
        "\n",
        "Grand Question 3: What is the relationship between fuel efficiency and transmission type among popular models in the years 1999 - 2008?\n"
      ],
      "id": "f0426bcc"
    },
    {
      "cell_type": "code",
      "metadata": {},
      "source": [
        "#| label: GQ7\n",
        "#| code-summary: Build Chart\n",
        "# Include and execute your code here\n",
        "\n",
        "# chart = (alt.Chart(mpg)\n",
        "#   .encode(\n",
        "#     x='trans', \n",
        "#     y='hwy')\n",
        "#   .mark_circle()\n",
        "# )\n",
        "\n",
        "alt.Chart(dat.head(200))\\\n",
        "    .encode(x=\"trans\", y=\"hwy\")\\\n",
        "    .mark_bar()\\\n",
        "    .properties(\n",
        "        width=800,\n",
        "        height=300\n",
        "    )"
      ],
      "id": "GQ7",
      "execution_count": null,
      "outputs": []
    },
    {
      "cell_type": "code",
      "metadata": {},
      "source": [
        "#| label: GQ8 chart\n",
        "#| code-summary: Save chart 3 - Transmission\n",
        "#| fig-cap: 'Popular Models, 1999-2008: Transmission Type vs. Highway MPG'\n",
        "#| fig-align: center\n",
        "# Include and execute your code here\n",
        "\n",
        "alt.Chart(dat.head(200))\\\n",
        "    .encode(x = \"trans\", y = \"hwy\")\\\n",
        "    .mark_bar()\n",
        "\n",
        "# chart\n",
        "# chart.save(\"screenshots/altair_viz_3_trans.html\")\n",
        "# chart.save(\"screenshots/altair_viz_3_trans.json\")"
      ],
      "id": "GQ8-chart",
      "execution_count": null,
      "outputs": []
    },
    {
      "cell_type": "code",
      "metadata": {},
      "source": [
        "#| label: GQ9 table\n",
        "#| code-summary: Display Table 3 in Terminal and HTML v.1\n",
        "#| tbl-cap: Popular Models Highway Fuel Efficiency\n",
        "#| tbl-cap-location: top\n",
        "# Include and execute your code here\n",
        "\n",
        "# print()\n",
        "print(mpg\n",
        "  .head(5)\n",
        "  .filter([\"manufacturer\", \"model\",\"year\", \"hwy\", \"trans\"])\n",
        "  .to_markdown(index=False))\n",
        "# print()"
      ],
      "id": "GQ9-table",
      "execution_count": null,
      "outputs": []
    },
    {
      "cell_type": "code",
      "metadata": {},
      "source": [
        "#| label: GQ9A table\n",
        "#| code-summary: Display Table 3 in Terminal and HTML v.2\n",
        "#| tbl-cap: Popular Models Highway Fuel Efficiency\n",
        "#| tbl-cap-location: top\n",
        "# Include and execute your code here\n",
        "\n",
        "mydat = dat.head(1000)\\\n",
        "    .groupby('manufacturer')\\\n",
        "    .sum()\\\n",
        "    .reset_index()\\\n",
        "    .tail(10)\\\n",
        "    .filter([\"manufacturer\", \"model\",\"year\", \"hwy\", \"trans\"])\n",
        "\n",
        "display(mydat)"
      ],
      "id": "GQ9A-table",
      "execution_count": null,
      "outputs": []
    },
    {
      "cell_type": "code",
      "metadata": {},
      "source": [
        "#| label: GQ9BA chart\n",
        "#| code-summary: Display Table 3 in HTML v.3\n",
        "# Include and execute your code here\n",
        "\n",
        "Markdown(mydat.to_markdown(index=False))"
      ],
      "id": "GQ9BA-chart",
      "execution_count": null,
      "outputs": []
    },
    {
      "cell_type": "markdown",
      "metadata": {},
      "source": [
        "## APPENDIX A (Additional Python Code)\n",
        "\n",
        "```python\n",
        "#paste other your code from your python file (.py) here\n",
        "```"
      ],
      "id": "ece5cc67"
    }
  ],
  "metadata": {
    "kernelspec": {
      "name": "python3",
      "language": "python",
      "display_name": "Python 3 (ipykernel)"
    }
  },
  "nbformat": 4,
  "nbformat_minor": 5
}